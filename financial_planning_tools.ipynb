{
 "cells": [
  {
   "cell_type": "markdown",
   "metadata": {},
   "source": [
    "# Financial Planning with APIs and Simulations\n",
    "\n",
    "In this Challenge, you’ll create two financial analysis tools by using a single Jupyter notebook:\n",
    "\n",
    "Part 1: A financial planner for emergencies. The members will be able to use this tool to visualize their current savings. The members can then determine if they have enough reserves for an emergency fund.\n",
    "\n",
    "Part 2: A financial planner for retirement. This tool will forecast the performance of their retirement portfolio in 30 years. To do this, the tool will make an Alpaca API call via the Alpaca SDK to get historical price data for use in Monte Carlo simulations.\n",
    "\n",
    "You’ll use the information from the Monte Carlo simulation to answer questions about the portfolio in your Jupyter notebook.\n",
    "\n"
   ]
  },
  {
   "cell_type": "code",
   "execution_count": 31,
   "metadata": {},
   "outputs": [],
   "source": [
    "# Import the required libraries and dependencies\n",
    "import os\n",
    "import requests\n",
    "import json\n",
    "import pandas as pd\n",
    "import numpy as np\n",
    "from dotenv import load_dotenv\n",
    "import alpaca_trade_api as tradeapi\n",
    "from MCForecastTools import MCSimulation\n",
    "\n",
    "%matplotlib inline"
   ]
  },
  {
   "cell_type": "code",
   "execution_count": 32,
   "metadata": {},
   "outputs": [
    {
     "data": {
      "text/plain": [
       "True"
      ]
     },
     "execution_count": 32,
     "metadata": {},
     "output_type": "execute_result"
    }
   ],
   "source": [
    "# Load the environment variables from the .env file\n",
    "#by calling the load_dotenv function\n",
    "load_dotenv()"
   ]
  },
  {
   "cell_type": "markdown",
   "metadata": {},
   "source": [
    "## Part 1: Create a Financial Planner for Emergencies"
   ]
  },
  {
   "cell_type": "markdown",
   "metadata": {},
   "source": [
    "### Evaluate the Cryptocurrency Wallet by Using the Requests Library\n",
    "\n",
    "In this section, you’ll determine the current value of a member’s cryptocurrency wallet. You’ll collect the current prices for the Bitcoin and Ethereum cryptocurrencies by using the Python Requests library. For the prototype, you’ll assume that the member holds the 1.2 Bitcoins (BTC) and 5.3 Ethereum coins (ETH). To do all this, complete the following steps:\n",
    "\n",
    "1. Create a variable named `monthly_income`, and set its value to `12000`.\n",
    "\n",
    "2. Use the Requests library to get the current price (in US dollars) of Bitcoin (BTC) and Ethereum (ETH) by using the API endpoints that the starter code supplies.\n",
    "\n",
    "3. Navigate the JSON response object to access the current price of each coin, and store each in a variable.\n",
    "\n",
    "    > **Hint** Note the specific identifier for each cryptocurrency in the API JSON response. The Bitcoin identifier is `1`, and the Ethereum identifier is `1027`.\n",
    "\n",
    "4. Calculate the value, in US dollars, of the current amount of each cryptocurrency and of the entire cryptocurrency wallet.\n",
    "\n"
   ]
  },
  {
   "cell_type": "code",
   "execution_count": 33,
   "metadata": {},
   "outputs": [],
   "source": [
    "# The current number of coins for each cryptocurrency asset held in the portfolio.\n",
    "btc_coins = 1.2\n",
    "eth_coins = 5.3"
   ]
  },
  {
   "cell_type": "markdown",
   "metadata": {},
   "source": [
    "#### Step 1: Create a variable named `monthly_income`, and set its value to `12000`."
   ]
  },
  {
   "cell_type": "code",
   "execution_count": 34,
   "metadata": {},
   "outputs": [],
   "source": [
    "# The monthly amount for the member's household income\n",
    "monthly_income = 12000"
   ]
  },
  {
   "cell_type": "markdown",
   "metadata": {},
   "source": [
    "#### Review the endpoint URLs for the API calls to Free Crypto API in order to get the current pricing information for both BTC and ETH."
   ]
  },
  {
   "cell_type": "code",
   "execution_count": 35,
   "metadata": {},
   "outputs": [],
   "source": [
    "# The Free Crypto API Call endpoint URLs for the held cryptocurrency assets\n",
    "btc_url = \"https://api.alternative.me/v2/ticker/Bitcoin/?convert=USD\"\n",
    "eth_url = \"https://api.alternative.me/v2/ticker/Ethereum/?convert=USD\""
   ]
  },
  {
   "cell_type": "markdown",
   "metadata": {},
   "source": [
    "#### Step 2. Use the Requests library to get the current price (in US dollars) of Bitcoin (BTC) and Ethereum (ETH) by using the API endpoints that the starter code supplied."
   ]
  },
  {
   "cell_type": "code",
   "execution_count": 36,
   "metadata": {},
   "outputs": [
    {
     "name": "stdout",
     "output_type": "stream",
     "text": [
      "{\n",
      "   \"data\": {\n",
      "      \"1\": {\n",
      "         \"id\": 1,\n",
      "         \"name\": \"Bitcoin\",\n",
      "         \"symbol\": \"BTC\",\n",
      "         \"website_slug\": \"bitcoin\",\n",
      "         \"rank\": 1,\n",
      "         \"circulating_supply\": 18853456,\n",
      "         \"total_supply\": 18853456,\n",
      "         \"max_supply\": 21000000,\n",
      "         \"quotes\": {\n",
      "            \"USD\": {\n",
      "               \"price\": 62018.0,\n",
      "               \"volume_24h\": 30721544653,\n",
      "               \"market_cap\": 1168585474358,\n",
      "               \"percentage_change_1h\": 0.311099292266512,\n",
      "               \"percentage_change_24h\": 0.789988079637417,\n",
      "               \"percentage_change_7d\": 0.705677481374157,\n",
      "               \"percent_change_1h\": 0.311099292266512,\n",
      "               \"percent_change_24h\": 0.789988079637417,\n",
      "               \"percent_change_7d\": 0.705677481374157\n",
      "            }\n",
      "         },\n",
      "         \"last_updated\": 1635134040\n",
      "      }\n",
      "   },\n",
      "   \"metadata\": {\n",
      "      \"timestamp\": 1635134040,\n",
      "      \"num_cryptocurrencies\": 3105,\n",
      "      \"error\": null\n",
      "   }\n",
      "}\n"
     ]
    }
   ],
   "source": [
    "### Using the Python requests library, make an API call to access the current price of BTC\n",
    "btc_response = requests.get(\"https://api.alternative.me/v2/ticker/Bitcoin/?convert=USD\").json()\n",
    "\n",
    "# Use the json.dumps function to review the response data from the API call\n",
    "# Use the indent and sort_keys parameters to make the response object readable\n",
    "print(json.dumps(btc_response, indent = 3))\n"
   ]
  },
  {
   "cell_type": "code",
   "execution_count": 37,
   "metadata": {},
   "outputs": [
    {
     "name": "stdout",
     "output_type": "stream",
     "text": [
      "{\n",
      "   \"data\": {\n",
      "      \"1027\": {\n",
      "         \"id\": 1027,\n",
      "         \"name\": \"Ethereum\",\n",
      "         \"symbol\": \"ETH\",\n",
      "         \"website_slug\": \"ethereum\",\n",
      "         \"rank\": 2,\n",
      "         \"circulating_supply\": 118065769,\n",
      "         \"total_supply\": 118065769,\n",
      "         \"max_supply\": 0,\n",
      "         \"quotes\": {\n",
      "            \"USD\": {\n",
      "               \"price\": 4138.41,\n",
      "               \"volume_24h\": 16846621660,\n",
      "               \"market_cap\": 488351755017,\n",
      "               \"percentage_change_1h\": 0.0068585260327115,\n",
      "               \"percentage_change_24h\": 0.0636141679060076,\n",
      "               \"percentage_change_7d\": 7.37332736935554,\n",
      "               \"percent_change_1h\": 0.0068585260327115,\n",
      "               \"percent_change_24h\": 0.0636141679060076,\n",
      "               \"percent_change_7d\": 7.37332736935554\n",
      "            }\n",
      "         },\n",
      "         \"last_updated\": 1635134046\n",
      "      }\n",
      "   },\n",
      "   \"metadata\": {\n",
      "      \"timestamp\": 1635134046,\n",
      "      \"num_cryptocurrencies\": 3105,\n",
      "      \"error\": null\n",
      "   }\n",
      "}\n"
     ]
    }
   ],
   "source": [
    "# Using the Python requests library, make an API call to access the current price ETH\n",
    "eth_response = requests.get(\"https://api.alternative.me/v2/ticker/Ethereum/?convert=USD\").json()\n",
    "\n",
    "# Use the json.dumps function to review the response data from the API call\n",
    "# Use the indent and sort_keys parameters to make the response object readable\n",
    "print(json.dumps(eth_response, indent = 3))"
   ]
  },
  {
   "cell_type": "markdown",
   "metadata": {},
   "source": [
    "#### Step 3: Navigate the JSON response object to access the current price of each coin, and store each in a variable."
   ]
  },
  {
   "cell_type": "code",
   "execution_count": 38,
   "metadata": {},
   "outputs": [
    {
     "data": {
      "text/plain": [
       "62018.0"
      ]
     },
     "execution_count": 38,
     "metadata": {},
     "output_type": "execute_result"
    }
   ],
   "source": [
    "# Navigate the BTC response object to access the current price of BTC\n",
    "btc_price = btc_response[\"data\"][\"1\"][\"quotes\"][\"USD\"][\"price\"]\n",
    "\n",
    "# Print the current price of BTC\n",
    "btc_price"
   ]
  },
  {
   "cell_type": "code",
   "execution_count": 39,
   "metadata": {},
   "outputs": [
    {
     "data": {
      "text/plain": [
       "4138.41"
      ]
     },
     "execution_count": 39,
     "metadata": {},
     "output_type": "execute_result"
    }
   ],
   "source": [
    "# Navigate the BTC response object to access the current price of ETH\n",
    "eth_price = eth_response[\"data\"][\"1027\"][\"quotes\"][\"USD\"][\"price\"]\n",
    "\n",
    "# Print the current price of ETH\n",
    "eth_price"
   ]
  },
  {
   "cell_type": "markdown",
   "metadata": {},
   "source": [
    "### Step 4: Calculate the value, in US dollars, of the current amount of each cryptocurrency and of the entire cryptocurrency wallet."
   ]
  },
  {
   "cell_type": "code",
   "execution_count": 40,
   "metadata": {},
   "outputs": [
    {
     "data": {
      "text/plain": [
       "74421.59999999999"
      ]
     },
     "execution_count": 40,
     "metadata": {},
     "output_type": "execute_result"
    }
   ],
   "source": [
    "# Compute the current value of the BTC holding \n",
    "btc_value = btc_price*btc_coins\n",
    "\n",
    "# Print current value of your holding in BTC\n",
    "btc_value"
   ]
  },
  {
   "cell_type": "code",
   "execution_count": 41,
   "metadata": {},
   "outputs": [
    {
     "data": {
      "text/plain": [
       "21933.572999999997"
      ]
     },
     "execution_count": 41,
     "metadata": {},
     "output_type": "execute_result"
    }
   ],
   "source": [
    "# Compute the current value of the ETH holding \n",
    "eth_value = eth_price*eth_coins\n",
    "\n",
    "# Print current value of your holding in ETH\n",
    "eth_value"
   ]
  },
  {
   "cell_type": "code",
   "execution_count": 42,
   "metadata": {},
   "outputs": [
    {
     "data": {
      "text/plain": [
       "96355.17299999998"
      ]
     },
     "execution_count": 42,
     "metadata": {},
     "output_type": "execute_result"
    }
   ],
   "source": [
    "# Compute the total value of the cryptocurrency wallet\n",
    "# Add the value of the BTC holding to the value of the ETH holding\n",
    "total_crypto_wallet = eth_value+btc_value\n",
    "\n",
    "# Print current cryptocurrency wallet balance\n",
    "total_crypto_wallet"
   ]
  },
  {
   "cell_type": "markdown",
   "metadata": {},
   "source": [
    "### Evaluate the Stock and Bond Holdings by Using the Alpaca SDK\n",
    "\n",
    "In this section, you’ll determine the current value of a member’s stock and bond holdings. You’ll make an API call to Alpaca via the Alpaca SDK to get the current closing prices of the SPDR S&P 500 ETF Trust (ticker: SPY) and of the iShares Core US Aggregate Bond ETF (ticker: AGG). For the prototype, assume that the member holds 110 shares of SPY, which represents the stock portion of their portfolio, and 200 shares of AGG, which represents the bond portion. To do all this, complete the following steps:\n",
    "\n",
    "1. In the `Starter_Code` folder, create an environment file (`.env`) to store the values of your Alpaca API key and Alpaca secret key.\n",
    "\n",
    "2. Set the variables for the Alpaca API and secret keys. Using the Alpaca SDK, create the Alpaca `tradeapi.REST` object. In this object, include the parameters for the Alpaca API key, the secret key, and the version number.\n",
    "\n",
    "3. Set the following parameters for the Alpaca API call:\n",
    "\n",
    "    - `tickers`: Use the tickers for the member’s stock and bond holdings.\n",
    "\n",
    "    - `timeframe`: Use a time frame of one day.\n",
    "\n",
    "    - `start_date` and `end_date`: Use the same date for these parameters, and format them with the date of the previous weekday (or `2020-08-07`). This is because you want the one closing price for the most-recent trading day.\n",
    "\n",
    "4. Get the current closing prices for `SPY` and `AGG` by using the Alpaca `get_barset` function. Format the response as a Pandas DataFrame by including the `df` property at the end of the `get_barset` function.\n",
    "\n",
    "5. Navigating the Alpaca response DataFrame, select the `SPY` and `AGG` closing prices, and store them as variables.\n",
    "\n",
    "6. Calculate the value, in US dollars, of the current amount of shares in each of the stock and bond portions of the portfolio, and print the results.\n"
   ]
  },
  {
   "cell_type": "markdown",
   "metadata": {},
   "source": [
    "#### Review the total number of shares held in both (SPY) and (AGG)."
   ]
  },
  {
   "cell_type": "code",
   "execution_count": 43,
   "metadata": {},
   "outputs": [],
   "source": [
    "# Current amount of shares held in both the stock (SPY) and bond (AGG) portion of the portfolio.\n",
    "spy_shares = 110\n",
    "agg_shares = 200\n"
   ]
  },
  {
   "cell_type": "code",
   "execution_count": 44,
   "metadata": {},
   "outputs": [],
   "source": [
    "# os.getcwd()"
   ]
  },
  {
   "cell_type": "markdown",
   "metadata": {},
   "source": [
    "#### Step 1: In the `Starter_Code` folder, create an environment file (`.env`) to store the values of your Alpaca API key and Alpaca secret key."
   ]
  },
  {
   "cell_type": "markdown",
   "metadata": {},
   "source": [
    "#### Step 2: Set the variables for the Alpaca API and secret keys. Using the Alpaca SDK, create the Alpaca `tradeapi.REST` object. In this object, include the parameters for the Alpaca API key, the secret key, and the version number."
   ]
  },
  {
   "cell_type": "code",
   "execution_count": 45,
   "metadata": {},
   "outputs": [
    {
     "data": {
      "text/plain": [
       "str"
      ]
     },
     "metadata": {},
     "output_type": "display_data"
    },
    {
     "data": {
      "text/plain": [
       "str"
      ]
     },
     "metadata": {},
     "output_type": "display_data"
    }
   ],
   "source": [
    "# Set the variables for the Alpaca API and secret keys\n",
    "alpaca_key = os.getenv(\"ALPACA_API_KEY\")\n",
    "secret_alpaca_key = os.getenv(\"ALPACA_SECRET_KEY\")\n",
    "\n",
    "# print(alpaca_key)\n",
    "# os.environ\n",
    "display(type(alpaca_key))\n",
    "display(type(secret_alpaca_key))\n",
    "\n",
    "\n",
    "# Create the Alpaca tradeapi.REST object\n",
    "\n",
    "api = tradeapi.REST(alpaca_key, secret_alpaca_key, api_version = \"v2\")\n"
   ]
  },
  {
   "cell_type": "markdown",
   "metadata": {},
   "source": [
    "#### Step 3: Set the following parameters for the Alpaca API call:\n",
    "\n",
    "- `tickers`: Use the tickers for the member’s stock and bond holdings.\n",
    "\n",
    "- `timeframe`: Use a time frame of one day.\n",
    "\n",
    "- `start_date` and `end_date`: Use the same date for these parameters, and format them with the date of the previous weekday (or `2020-08-07`). This is because you want the one closing price for the most-recent trading day.\n"
   ]
  },
  {
   "cell_type": "code",
   "execution_count": 46,
   "metadata": {
    "tags": []
   },
   "outputs": [],
   "source": [
    "# Set the tickers for both the bond and stock portion of the portfolio\n",
    "tickers = [\"SPY\", \"AGG\"]\n",
    "\n",
    "\n",
    "# Set timeframe to 1D \n",
    "time_frame = \"1D\"\n",
    "\n",
    "# Format current date as ISO format\n",
    "# Set both the start and end date at the date of your prior weekday \n",
    "# This will give you the closing price of the previous trading day\n",
    "# Alternatively you can use a start and end date of 2020-08-07\n",
    "start_date = pd.Timestamp(\"2021-10-22\", tz = \"America/New_York\").isoformat()\n",
    "end_date = pd.Timestamp(\"2021-10-22\", tz = \"America/New_York\").isoformat()\n"
   ]
  },
  {
   "cell_type": "markdown",
   "metadata": {},
   "source": [
    "#### Step 4: Get the current closing prices for `SPY` and `AGG` by using the Alpaca `get_barset` function. Format the response as a Pandas DataFrame by including the `df` property at the end of the `get_barset` function."
   ]
  },
  {
   "cell_type": "code",
   "execution_count": 47,
   "metadata": {},
   "outputs": [
    {
     "data": {
      "text/html": [
       "<div>\n",
       "<style scoped>\n",
       "    .dataframe tbody tr th:only-of-type {\n",
       "        vertical-align: middle;\n",
       "    }\n",
       "\n",
       "    .dataframe tbody tr th {\n",
       "        vertical-align: top;\n",
       "    }\n",
       "\n",
       "    .dataframe thead tr th {\n",
       "        text-align: left;\n",
       "    }\n",
       "\n",
       "    .dataframe thead tr:last-of-type th {\n",
       "        text-align: right;\n",
       "    }\n",
       "</style>\n",
       "<table border=\"1\" class=\"dataframe\">\n",
       "  <thead>\n",
       "    <tr>\n",
       "      <th></th>\n",
       "      <th colspan=\"5\" halign=\"left\">AGG</th>\n",
       "      <th colspan=\"5\" halign=\"left\">SPY</th>\n",
       "    </tr>\n",
       "    <tr>\n",
       "      <th></th>\n",
       "      <th>open</th>\n",
       "      <th>high</th>\n",
       "      <th>low</th>\n",
       "      <th>close</th>\n",
       "      <th>volume</th>\n",
       "      <th>open</th>\n",
       "      <th>high</th>\n",
       "      <th>low</th>\n",
       "      <th>close</th>\n",
       "      <th>volume</th>\n",
       "    </tr>\n",
       "    <tr>\n",
       "      <th>time</th>\n",
       "      <th></th>\n",
       "      <th></th>\n",
       "      <th></th>\n",
       "      <th></th>\n",
       "      <th></th>\n",
       "      <th></th>\n",
       "      <th></th>\n",
       "      <th></th>\n",
       "      <th></th>\n",
       "      <th></th>\n",
       "    </tr>\n",
       "  </thead>\n",
       "  <tbody>\n",
       "    <tr>\n",
       "      <th>2021-10-22 00:00:00-04:00</th>\n",
       "      <td>113.97</td>\n",
       "      <td>114.1399</td>\n",
       "      <td>113.895</td>\n",
       "      <td>114.07</td>\n",
       "      <td>3309637</td>\n",
       "      <td>453.13</td>\n",
       "      <td>454.67</td>\n",
       "      <td>451.05</td>\n",
       "      <td>453.13</td>\n",
       "      <td>50771701</td>\n",
       "    </tr>\n",
       "  </tbody>\n",
       "</table>\n",
       "</div>"
      ],
      "text/plain": [
       "                              AGG                                         SPY  \\\n",
       "                             open      high      low   close   volume    open   \n",
       "time                                                                            \n",
       "2021-10-22 00:00:00-04:00  113.97  114.1399  113.895  114.07  3309637  453.13   \n",
       "\n",
       "                                                             \n",
       "                             high     low   close    volume  \n",
       "time                                                         \n",
       "2021-10-22 00:00:00-04:00  454.67  451.05  453.13  50771701  "
      ]
     },
     "execution_count": 47,
     "metadata": {},
     "output_type": "execute_result"
    }
   ],
   "source": [
    "# Use the Alpaca get_barset function to get current closing prices the portfolio\n",
    "# Be sure to set the `df` property after the function to format the response object as a DataFrame\n",
    "\n",
    "holdings_df = api.get_barset(tickers,\n",
    "                             time_frame,\n",
    "                             start = start_date,\n",
    "                             end = end_date\n",
    "                        ).df\n",
    "\n",
    "# Review the first 5 rows of the Alpaca DataFrame\n",
    "# YOUR CODE HERE\n",
    "holdings_df.head()"
   ]
  },
  {
   "cell_type": "markdown",
   "metadata": {},
   "source": [
    "#### Step 5: Navigating the Alpaca response DataFrame, select the `SPY` and `AGG` closing prices, and store them as variables."
   ]
  },
  {
   "cell_type": "code",
   "execution_count": 48,
   "metadata": {},
   "outputs": [
    {
     "data": {
      "text/plain": [
       "114.07"
      ]
     },
     "execution_count": 48,
     "metadata": {},
     "output_type": "execute_result"
    }
   ],
   "source": [
    "# Access the closing price for AGG from the Alpaca DataFrame\n",
    "# Converting the value to a floating point number\n",
    "agg_close_price = float(holdings_df[\"AGG\"][\"close\"])\n",
    "\n",
    "# Print the AGG closing price\n",
    "# YOUR CODE HERE\n",
    "type(agg_close_price)\n",
    "agg_close_price"
   ]
  },
  {
   "cell_type": "code",
   "execution_count": 49,
   "metadata": {},
   "outputs": [
    {
     "data": {
      "text/plain": [
       "453.13"
      ]
     },
     "execution_count": 49,
     "metadata": {},
     "output_type": "execute_result"
    }
   ],
   "source": [
    "# Access the closing price for SPY from the Alpaca DataFrame\n",
    "# Converting the value to a floating point number\n",
    "spy_close_price = float(holdings_df[\"SPY\"][\"close\"])\n",
    "\n",
    "# Print the SPY closing price\n",
    "# YOUR CODE HERE\n",
    "spy_close_price"
   ]
  },
  {
   "cell_type": "markdown",
   "metadata": {},
   "source": [
    "#### Step 6: Calculate the value, in US dollars, of the current amount of shares in each of the stock and bond portions of the portfolio, and print the results."
   ]
  },
  {
   "cell_type": "code",
   "execution_count": 50,
   "metadata": {},
   "outputs": [
    {
     "data": {
      "text/plain": [
       "22814.0"
      ]
     },
     "execution_count": 50,
     "metadata": {},
     "output_type": "execute_result"
    }
   ],
   "source": [
    "# Calculate the current value of the bond portion of the portfolio\n",
    "agg_value = agg_shares * agg_close_price\n",
    "\n",
    "# Print the current value of the bond portfolio\n",
    "agg_value"
   ]
  },
  {
   "cell_type": "code",
   "execution_count": 51,
   "metadata": {},
   "outputs": [
    {
     "data": {
      "text/plain": [
       "49844.3"
      ]
     },
     "execution_count": 51,
     "metadata": {},
     "output_type": "execute_result"
    }
   ],
   "source": [
    "# Calculate the current value of the stock portion of the portfolio\n",
    "spy_value = spy_shares * spy_close_price\n",
    "\n",
    "# Print the current value of the stock portfolio\n",
    "# YOUR CODE HERE\n",
    "spy_value"
   ]
  },
  {
   "cell_type": "code",
   "execution_count": 52,
   "metadata": {},
   "outputs": [
    {
     "data": {
      "text/plain": [
       "72658.3"
      ]
     },
     "execution_count": 52,
     "metadata": {},
     "output_type": "execute_result"
    }
   ],
   "source": [
    "# Calculate the total value of the stock and bond portion of the portfolio\n",
    "total_stocks_bonds = spy_value + agg_value\n",
    "\n",
    "# Print the current balance of the stock and bond portion of the portfolio\n",
    "total_stocks_bonds"
   ]
  },
  {
   "cell_type": "code",
   "execution_count": 53,
   "metadata": {},
   "outputs": [
    {
     "data": {
      "text/plain": [
       "169013.473"
      ]
     },
     "execution_count": 53,
     "metadata": {},
     "output_type": "execute_result"
    }
   ],
   "source": [
    "# Calculate the total value of the member's entire savings portfolio\n",
    "# Add the value of the cryptocurrency walled to the value of the total stocks and bonds\n",
    "total_portfolio = total_crypto_wallet + total_stocks_bonds\n",
    "\n",
    "# Print current cryptocurrency wallet balance\n",
    "total_portfolio"
   ]
  },
  {
   "cell_type": "markdown",
   "metadata": {},
   "source": [
    "### Evaluate the Emergency Fund\n",
    "\n",
    "In this section, you’ll use the valuations for the cryptocurrency wallet and for the stock and bond portions of the portfolio to determine if the credit union member has enough savings to build an emergency fund into their financial plan. To do this, complete the following steps:\n",
    "\n",
    "1. Create a Python list named `savings_data` that has two elements. The first element contains the total value of the cryptocurrency wallet. The second element contains the total value of the stock and bond portions of the portfolio.\n",
    "\n",
    "2. Use the `savings_data` list to create a Pandas DataFrame named `savings_df`, and then display this DataFrame. The function to create the DataFrame should take the following three parameters:\n",
    "\n",
    "    - `savings_data`: Use the list that you just created.\n",
    "\n",
    "    - `columns`: Set this parameter equal to a Python list with a single value called `amount`.\n",
    "\n",
    "    - `index`: Set this parameter equal to a Python list with the values of `crypto` and `stock/bond`.\n",
    "\n",
    "3. Use the `savings_df` DataFrame to plot a pie chart that visualizes the composition of the member’s portfolio. The y-axis of the pie chart uses `amount`. Be sure to add a title.\n",
    "\n",
    "4. Using Python, determine if the current portfolio has enough to create an emergency fund as part of the member’s financial plan. Ideally, an emergency fund should equal to three times the member’s monthly income. To do this, implement the following steps:\n",
    "\n",
    "    1. Create a variable named `emergency_fund_value`, and set it equal to three times the value of the member’s `monthly_income` of $12000. (You set this earlier in Part 1).\n",
    "\n",
    "    2. Create a series of three if statements to determine if the member’s total portfolio is large enough to fund the emergency portfolio:\n",
    "\n",
    "        1. If the total portfolio value is greater than the emergency fund value, display a message congratulating the member for having enough money in this fund.\n",
    "\n",
    "        2. Else if the total portfolio value is equal to the emergency fund value, display a message congratulating the member on reaching this important financial goal.\n",
    "\n",
    "        3. Else the total portfolio is less than the emergency fund value, so display a message showing how many dollars away the member is from reaching the goal. (Subtract the total portfolio value from the emergency fund value.)\n"
   ]
  },
  {
   "cell_type": "markdown",
   "metadata": {},
   "source": [
    "#### Step 1: Create a Python list named `savings_data` that has two elements. The first element contains the total value of the cryptocurrency wallet. The second element contains the total value of the stock and bond portions of the portfolio."
   ]
  },
  {
   "cell_type": "code",
   "execution_count": 54,
   "metadata": {},
   "outputs": [
    {
     "data": {
      "text/plain": [
       "[96355.17299999998, 72658.3]"
      ]
     },
     "execution_count": 54,
     "metadata": {},
     "output_type": "execute_result"
    }
   ],
   "source": [
    "# Consolidate financial assets data into a Python list\n",
    "savings_data = [total_crypto_wallet, total_stocks_bonds]\n",
    "\n",
    "# Review the Python list savings_data\n",
    "\n",
    "savings_data "
   ]
  },
  {
   "cell_type": "markdown",
   "metadata": {},
   "source": [
    "#### Step 2: Use the `savings_data` list to create a Pandas DataFrame named `savings_df`, and then display this DataFrame. The function to create the DataFrame should take the following three parameters:\n",
    "\n",
    "- `savings_data`: Use the list that you just created.\n",
    "\n",
    "- `columns`: Set this parameter equal to a Python list with a single value called `amount`.\n",
    "\n",
    "- `index`: Set this parameter equal to a Python list with the values of `crypto` and `stock/bond`.\n"
   ]
  },
  {
   "cell_type": "code",
   "execution_count": 55,
   "metadata": {},
   "outputs": [
    {
     "data": {
      "text/html": [
       "<div>\n",
       "<style scoped>\n",
       "    .dataframe tbody tr th:only-of-type {\n",
       "        vertical-align: middle;\n",
       "    }\n",
       "\n",
       "    .dataframe tbody tr th {\n",
       "        vertical-align: top;\n",
       "    }\n",
       "\n",
       "    .dataframe thead th {\n",
       "        text-align: right;\n",
       "    }\n",
       "</style>\n",
       "<table border=\"1\" class=\"dataframe\">\n",
       "  <thead>\n",
       "    <tr style=\"text-align: right;\">\n",
       "      <th></th>\n",
       "      <th>amount</th>\n",
       "    </tr>\n",
       "  </thead>\n",
       "  <tbody>\n",
       "    <tr>\n",
       "      <th>crypto</th>\n",
       "      <td>96355.173</td>\n",
       "    </tr>\n",
       "    <tr>\n",
       "      <th>stock/bond</th>\n",
       "      <td>72658.300</td>\n",
       "    </tr>\n",
       "  </tbody>\n",
       "</table>\n",
       "</div>"
      ],
      "text/plain": [
       "               amount\n",
       "crypto      96355.173\n",
       "stock/bond  72658.300"
      ]
     },
     "execution_count": 55,
     "metadata": {},
     "output_type": "execute_result"
    }
   ],
   "source": [
    "# Create a Pandas DataFrame called savings_df \n",
    "savings_df = pd.DataFrame(savings_data, columns = [\"amount\"], index = [\"crypto\", \"stock/bond\"])\n",
    "\n",
    "# Display the savings_df DataFrame\n",
    "# YOUR CODE HERE\n",
    "savings_df"
   ]
  },
  {
   "cell_type": "markdown",
   "metadata": {},
   "source": [
    "#### Step 3: Use the `savings_df` DataFrame to plot a pie chart that visualizes the composition of the member’s portfolio. The y-axis of the pie chart uses `amount`. Be sure to add a title."
   ]
  },
  {
   "cell_type": "code",
   "execution_count": 56,
   "metadata": {},
   "outputs": [
    {
     "data": {
      "text/plain": [
       "<AxesSubplot:title={'center':'Portfolio Composition'}, ylabel='amount'>"
      ]
     },
     "execution_count": 56,
     "metadata": {},
     "output_type": "execute_result"
    },
    {
     "data": {
      "image/png": "[encoded data removed]",
      "text/plain": [
       "<Figure size 432x288 with 1 Axes>"
      ]
     },
     "metadata": {},
     "output_type": "display_data"
    }
   ],
   "source": [
    "# Plot the total value of the member's portfolio (crypto and stock/bond) in a pie chart\n",
    "savings_df.plot.pie(title = \"Portfolio Composition\", y = \"amount\")"
   ]
  },
  {
   "cell_type": "markdown",
   "metadata": {},
   "source": [
    "#### Step 4: Using Python, determine if the current portfolio has enough to create an emergency fund as part of the member’s financial plan. Ideally, an emergency fund should equal to three times the member’s monthly income. To do this, implement the following steps:\n",
    "\n",
    "Step 1. Create a variable named `emergency_fund_value`, and set it equal to three times the value of the member’s `monthly_income` of 12000. (You set this earlier in Part 1).\n",
    "\n",
    "Step 2. Create a series of three if statements to determine if the member’s total portfolio is large enough to fund the emergency portfolio:\n",
    "\n",
    "* If the total portfolio value is greater than the emergency fund value, display a message congratulating the member for having enough money in this fund.\n",
    "\n",
    "* Else if the total portfolio value is equal to the emergency fund value, display a message congratulating the member on reaching this important financial goal.\n",
    "\n",
    "* Else the total portfolio is less than the emergency fund value, so display a message showing how many dollars away the member is from reaching the goal. (Subtract the total portfolio value from the emergency fund value.)\n"
   ]
  },
  {
   "cell_type": "markdown",
   "metadata": {},
   "source": [
    "##### Step 4-1: Create a variable named `emergency_fund_value`, and set it equal to three times the value of the member’s `monthly_income` of 12000. (You set this earlier in Part 1)."
   ]
  },
  {
   "cell_type": "code",
   "execution_count": 57,
   "metadata": {},
   "outputs": [],
   "source": [
    "# Create a variable named emergency_fund_value\n",
    "emergency_fund_value = 3 * monthly_income\n"
   ]
  },
  {
   "cell_type": "markdown",
   "metadata": {},
   "source": [
    "##### Step 4-2: Create a series of three if statements to determine if the member’s total portfolio is large enough to fund the emergency portfolio:\n",
    "\n",
    "* If the total portfolio value is greater than the emergency fund value, display a message congratulating the member for having enough money in this fund.\n",
    "\n",
    "* Else if the total portfolio value is equal to the emergency fund value, display a message congratulating the member on reaching this important financial goal.\n",
    "\n",
    "* Else the total portfolio is less than the emergency fund value, so display a message showing how many dollars away the member is from reaching the goal. (Subtract the total portfolio value from the emergency fund value.)"
   ]
  },
  {
   "cell_type": "code",
   "execution_count": 58,
   "metadata": {},
   "outputs": [
    {
     "name": "stdout",
     "output_type": "stream",
     "text": [
      "Congratulation for having enough money in this fund!\n"
     ]
    }
   ],
   "source": [
    "# Evaluate the possibility of creating an emergency fund with 3 conditions:\n",
    "if total_portfolio > emergency_fund_value:\n",
    "    print(\"Congratulation for having enough money in this fund!\")\n",
    "elif total_portfolio == emergency_fund_value:\n",
    "    print(\"Congratulation for reaching this important financial goal!\")\n",
    "else:\n",
    "    print(f\"You are ${emergency_fund_value - total_portfolio} away from the goal\")\n"
   ]
  },
  {
   "cell_type": "markdown",
   "metadata": {},
   "source": [
    "## Part 2: Create a Financial Planner for Retirement"
   ]
  },
  {
   "cell_type": "markdown",
   "metadata": {},
   "source": [
    "### Create the Monte Carlo Simulation\n",
    "\n",
    "In this section, you’ll use the MCForecastTools library to create a Monte Carlo simulation for the member’s savings portfolio. To do this, complete the following steps:\n",
    "\n",
    "1. Make an API call via the Alpaca SDK to get 3 years of historical closing prices for a traditional 60/40 portfolio split: 60% stocks (SPY) and 40% bonds (AGG).\n",
    "\n",
    "2. Run a Monte Carlo simulation of 500 samples and 30 years for the 60/40 portfolio, and then plot the results.The following image shows the overlay line plot resulting from a simulation with these characteristics. However, because a random number generator is used to run each live Monte Carlo simulation, your image will differ slightly from this exact image:\n",
    "\n",
    "![A screenshot depicts the resulting plot.](Images/5-4-monte-carlo-line-plot.png)\n",
    "\n",
    "3. Plot the probability distribution of the Monte Carlo simulation. Plot the probability distribution of the Monte Carlo simulation. The following image shows the histogram plot resulting from a simulation with these characteristics. However, because a random number generator is used to run each live Monte Carlo simulation, your image will differ slightly from this exact image:\n",
    "\n",
    "![A screenshot depicts the histogram plot.](Images/5-4-monte-carlo-histogram.png)\n",
    "\n",
    "4. Generate the summary statistics for the Monte Carlo simulation.\n",
    "\n"
   ]
  },
  {
   "cell_type": "markdown",
   "metadata": {},
   "source": [
    "#### Step 1: Make an API call via the Alpaca SDK to get 3 years of historical closing prices for a traditional 60/40 portfolio split: 60% stocks (SPY) and 40% bonds (AGG)."
   ]
  },
  {
   "cell_type": "code",
   "execution_count": 59,
   "metadata": {},
   "outputs": [],
   "source": [
    "# Set start and end dates of 3 years back from your current date\n",
    "# Alternatively, you can use an end date of 2020-08-07 and work 3 years back from that date \n",
    "end_3_years_date = pd.to_datetime(\"today\")\n",
    "start_3_years_date = end_3_years_date - np.timedelta64(3,\"Y\")\n",
    "\n",
    "\n",
    "# Set number of rows to 1000 to retrieve the maximum amount of rows\n",
    "# YOUR CODE HERE\n",
    "limit_num = 1000"
   ]
  },
  {
   "cell_type": "code",
   "execution_count": 60,
   "metadata": {},
   "outputs": [
    {
     "data": {
      "text/html": [
       "<div>\n",
       "<style scoped>\n",
       "    .dataframe tbody tr th:only-of-type {\n",
       "        vertical-align: middle;\n",
       "    }\n",
       "\n",
       "    .dataframe tbody tr th {\n",
       "        vertical-align: top;\n",
       "    }\n",
       "\n",
       "    .dataframe thead tr th {\n",
       "        text-align: left;\n",
       "    }\n",
       "\n",
       "    .dataframe thead tr:last-of-type th {\n",
       "        text-align: right;\n",
       "    }\n",
       "</style>\n",
       "<table border=\"1\" class=\"dataframe\">\n",
       "  <thead>\n",
       "    <tr>\n",
       "      <th></th>\n",
       "      <th colspan=\"5\" halign=\"left\">AGG</th>\n",
       "      <th colspan=\"5\" halign=\"left\">SPY</th>\n",
       "    </tr>\n",
       "    <tr>\n",
       "      <th></th>\n",
       "      <th>open</th>\n",
       "      <th>high</th>\n",
       "      <th>low</th>\n",
       "      <th>close</th>\n",
       "      <th>volume</th>\n",
       "      <th>open</th>\n",
       "      <th>high</th>\n",
       "      <th>low</th>\n",
       "      <th>close</th>\n",
       "      <th>volume</th>\n",
       "    </tr>\n",
       "    <tr>\n",
       "      <th>time</th>\n",
       "      <th></th>\n",
       "      <th></th>\n",
       "      <th></th>\n",
       "      <th></th>\n",
       "      <th></th>\n",
       "      <th></th>\n",
       "      <th></th>\n",
       "      <th></th>\n",
       "      <th></th>\n",
       "      <th></th>\n",
       "    </tr>\n",
       "  </thead>\n",
       "  <tbody>\n",
       "    <tr>\n",
       "      <th>2017-11-01 00:00:00-04:00</th>\n",
       "      <td>109.17</td>\n",
       "      <td>109.4100</td>\n",
       "      <td>109.1700</td>\n",
       "      <td>109.29</td>\n",
       "      <td>2289204.0</td>\n",
       "      <td>NaN</td>\n",
       "      <td>NaN</td>\n",
       "      <td>NaN</td>\n",
       "      <td>NaN</td>\n",
       "      <td>NaN</td>\n",
       "    </tr>\n",
       "    <tr>\n",
       "      <th>2017-11-02 00:00:00-04:00</th>\n",
       "      <td>109.35</td>\n",
       "      <td>109.4950</td>\n",
       "      <td>109.3310</td>\n",
       "      <td>109.36</td>\n",
       "      <td>1870711.0</td>\n",
       "      <td>257.41</td>\n",
       "      <td>257.750</td>\n",
       "      <td>256.19</td>\n",
       "      <td>257.61</td>\n",
       "      <td>42432046.0</td>\n",
       "    </tr>\n",
       "    <tr>\n",
       "      <th>2017-11-03 00:00:00-04:00</th>\n",
       "      <td>109.48</td>\n",
       "      <td>109.4800</td>\n",
       "      <td>109.2900</td>\n",
       "      <td>109.46</td>\n",
       "      <td>1511462.0</td>\n",
       "      <td>257.78</td>\n",
       "      <td>258.500</td>\n",
       "      <td>257.30</td>\n",
       "      <td>258.44</td>\n",
       "      <td>38008582.0</td>\n",
       "    </tr>\n",
       "    <tr>\n",
       "      <th>2017-11-06 00:00:00-05:00</th>\n",
       "      <td>109.56</td>\n",
       "      <td>109.5900</td>\n",
       "      <td>109.4600</td>\n",
       "      <td>109.54</td>\n",
       "      <td>1120425.0</td>\n",
       "      <td>258.29</td>\n",
       "      <td>259.000</td>\n",
       "      <td>258.22</td>\n",
       "      <td>258.82</td>\n",
       "      <td>22683758.0</td>\n",
       "    </tr>\n",
       "    <tr>\n",
       "      <th>2017-11-07 00:00:00-05:00</th>\n",
       "      <td>109.58</td>\n",
       "      <td>109.6100</td>\n",
       "      <td>109.4900</td>\n",
       "      <td>109.57</td>\n",
       "      <td>1617243.0</td>\n",
       "      <td>258.97</td>\n",
       "      <td>259.350</td>\n",
       "      <td>258.09</td>\n",
       "      <td>258.70</td>\n",
       "      <td>40140309.0</td>\n",
       "    </tr>\n",
       "    <tr>\n",
       "      <th>...</th>\n",
       "      <td>...</td>\n",
       "      <td>...</td>\n",
       "      <td>...</td>\n",
       "      <td>...</td>\n",
       "      <td>...</td>\n",
       "      <td>...</td>\n",
       "      <td>...</td>\n",
       "      <td>...</td>\n",
       "      <td>...</td>\n",
       "      <td>...</td>\n",
       "    </tr>\n",
       "    <tr>\n",
       "      <th>2021-10-18 00:00:00-04:00</th>\n",
       "      <td>114.33</td>\n",
       "      <td>114.5600</td>\n",
       "      <td>114.2500</td>\n",
       "      <td>114.49</td>\n",
       "      <td>5145953.0</td>\n",
       "      <td>443.97</td>\n",
       "      <td>447.550</td>\n",
       "      <td>443.27</td>\n",
       "      <td>447.22</td>\n",
       "      <td>51994387.0</td>\n",
       "    </tr>\n",
       "    <tr>\n",
       "      <th>2021-10-19 00:00:00-04:00</th>\n",
       "      <td>114.37</td>\n",
       "      <td>114.3700</td>\n",
       "      <td>114.1600</td>\n",
       "      <td>114.18</td>\n",
       "      <td>3999066.0</td>\n",
       "      <td>448.92</td>\n",
       "      <td>450.700</td>\n",
       "      <td>448.27</td>\n",
       "      <td>450.68</td>\n",
       "      <td>40790864.0</td>\n",
       "    </tr>\n",
       "    <tr>\n",
       "      <th>2021-10-20 00:00:00-04:00</th>\n",
       "      <td>114.17</td>\n",
       "      <td>114.2900</td>\n",
       "      <td>114.0600</td>\n",
       "      <td>114.07</td>\n",
       "      <td>5881766.0</td>\n",
       "      <td>451.13</td>\n",
       "      <td>452.732</td>\n",
       "      <td>451.01</td>\n",
       "      <td>452.39</td>\n",
       "      <td>41594298.0</td>\n",
       "    </tr>\n",
       "    <tr>\n",
       "      <th>2021-10-21 00:00:00-04:00</th>\n",
       "      <td>114.01</td>\n",
       "      <td>114.0400</td>\n",
       "      <td>113.8423</td>\n",
       "      <td>113.85</td>\n",
       "      <td>4741154.0</td>\n",
       "      <td>451.76</td>\n",
       "      <td>453.829</td>\n",
       "      <td>451.31</td>\n",
       "      <td>453.61</td>\n",
       "      <td>33945007.0</td>\n",
       "    </tr>\n",
       "    <tr>\n",
       "      <th>2021-10-22 00:00:00-04:00</th>\n",
       "      <td>113.97</td>\n",
       "      <td>114.1399</td>\n",
       "      <td>113.8950</td>\n",
       "      <td>114.07</td>\n",
       "      <td>3309637.0</td>\n",
       "      <td>453.13</td>\n",
       "      <td>454.670</td>\n",
       "      <td>451.05</td>\n",
       "      <td>453.13</td>\n",
       "      <td>50771701.0</td>\n",
       "    </tr>\n",
       "  </tbody>\n",
       "</table>\n",
       "<p>1001 rows × 10 columns</p>\n",
       "</div>"
      ],
      "text/plain": [
       "                              AGG                                         \\\n",
       "                             open      high       low   close     volume   \n",
       "time                                                                       \n",
       "2017-11-01 00:00:00-04:00  109.17  109.4100  109.1700  109.29  2289204.0   \n",
       "2017-11-02 00:00:00-04:00  109.35  109.4950  109.3310  109.36  1870711.0   \n",
       "2017-11-03 00:00:00-04:00  109.48  109.4800  109.2900  109.46  1511462.0   \n",
       "2017-11-06 00:00:00-05:00  109.56  109.5900  109.4600  109.54  1120425.0   \n",
       "2017-11-07 00:00:00-05:00  109.58  109.6100  109.4900  109.57  1617243.0   \n",
       "...                           ...       ...       ...     ...        ...   \n",
       "2021-10-18 00:00:00-04:00  114.33  114.5600  114.2500  114.49  5145953.0   \n",
       "2021-10-19 00:00:00-04:00  114.37  114.3700  114.1600  114.18  3999066.0   \n",
       "2021-10-20 00:00:00-04:00  114.17  114.2900  114.0600  114.07  5881766.0   \n",
       "2021-10-21 00:00:00-04:00  114.01  114.0400  113.8423  113.85  4741154.0   \n",
       "2021-10-22 00:00:00-04:00  113.97  114.1399  113.8950  114.07  3309637.0   \n",
       "\n",
       "                              SPY                                       \n",
       "                             open     high     low   close      volume  \n",
       "time                                                                    \n",
       "2017-11-01 00:00:00-04:00     NaN      NaN     NaN     NaN         NaN  \n",
       "2017-11-02 00:00:00-04:00  257.41  257.750  256.19  257.61  42432046.0  \n",
       "2017-11-03 00:00:00-04:00  257.78  258.500  257.30  258.44  38008582.0  \n",
       "2017-11-06 00:00:00-05:00  258.29  259.000  258.22  258.82  22683758.0  \n",
       "2017-11-07 00:00:00-05:00  258.97  259.350  258.09  258.70  40140309.0  \n",
       "...                           ...      ...     ...     ...         ...  \n",
       "2021-10-18 00:00:00-04:00  443.97  447.550  443.27  447.22  51994387.0  \n",
       "2021-10-19 00:00:00-04:00  448.92  450.700  448.27  450.68  40790864.0  \n",
       "2021-10-20 00:00:00-04:00  451.13  452.732  451.01  452.39  41594298.0  \n",
       "2021-10-21 00:00:00-04:00  451.76  453.829  451.31  453.61  33945007.0  \n",
       "2021-10-22 00:00:00-04:00  453.13  454.670  451.05  453.13  50771701.0  \n",
       "\n",
       "[1001 rows x 10 columns]"
      ]
     },
     "execution_count": 60,
     "metadata": {},
     "output_type": "execute_result"
    }
   ],
   "source": [
    "# Use the Alpaca get_barset function to make the API call to get the 3 years worth of pricing data\n",
    "# The tickers and timeframe parameters should have been set in Part 1 of this activity \n",
    "# The start and end dates should be updated with the information set above\n",
    "# Remember to add the df property to the end of the call so the response is returned as a DataFrame\n",
    "ticker_data = api.get_barset(tickers,\n",
    "               time_frame,\n",
    "               start = start_3_years_date,\n",
    "               end = end_3_years_date,\n",
    "               limit = limit_num\n",
    "                ).df\n",
    "\n",
    "\n",
    "# Display both the first and last five rows of the DataFrame\n",
    "# display(MC_tickers.head())\n",
    "# MC_tickers.tail()\n",
    "ticker_data\n"
   ]
  },
  {
   "cell_type": "markdown",
   "metadata": {},
   "source": [
    "#### Step 2: Run a Monte Carlo simulation of 500 samples and 30 years for the 60/40 portfolio, and then plot the results."
   ]
  },
  {
   "cell_type": "code",
   "execution_count": 61,
   "metadata": {},
   "outputs": [
    {
     "data": {
      "text/html": [
       "<div>\n",
       "<style scoped>\n",
       "    .dataframe tbody tr th:only-of-type {\n",
       "        vertical-align: middle;\n",
       "    }\n",
       "\n",
       "    .dataframe tbody tr th {\n",
       "        vertical-align: top;\n",
       "    }\n",
       "\n",
       "    .dataframe thead tr th {\n",
       "        text-align: left;\n",
       "    }\n",
       "\n",
       "    .dataframe thead tr:last-of-type th {\n",
       "        text-align: right;\n",
       "    }\n",
       "</style>\n",
       "<table border=\"1\" class=\"dataframe\">\n",
       "  <thead>\n",
       "    <tr>\n",
       "      <th></th>\n",
       "      <th colspan=\"6\" halign=\"left\">AGG</th>\n",
       "      <th colspan=\"6\" halign=\"left\">SPY</th>\n",
       "    </tr>\n",
       "    <tr>\n",
       "      <th></th>\n",
       "      <th>open</th>\n",
       "      <th>high</th>\n",
       "      <th>low</th>\n",
       "      <th>close</th>\n",
       "      <th>volume</th>\n",
       "      <th>daily_return</th>\n",
       "      <th>open</th>\n",
       "      <th>high</th>\n",
       "      <th>low</th>\n",
       "      <th>close</th>\n",
       "      <th>volume</th>\n",
       "      <th>daily_return</th>\n",
       "    </tr>\n",
       "    <tr>\n",
       "      <th>time</th>\n",
       "      <th></th>\n",
       "      <th></th>\n",
       "      <th></th>\n",
       "      <th></th>\n",
       "      <th></th>\n",
       "      <th></th>\n",
       "      <th></th>\n",
       "      <th></th>\n",
       "      <th></th>\n",
       "      <th></th>\n",
       "      <th></th>\n",
       "      <th></th>\n",
       "    </tr>\n",
       "  </thead>\n",
       "  <tbody>\n",
       "    <tr>\n",
       "      <th>2017-11-01 00:00:00-04:00</th>\n",
       "      <td>109.17</td>\n",
       "      <td>109.410</td>\n",
       "      <td>109.170</td>\n",
       "      <td>109.29</td>\n",
       "      <td>2289204.0</td>\n",
       "      <td>NaN</td>\n",
       "      <td>NaN</td>\n",
       "      <td>NaN</td>\n",
       "      <td>NaN</td>\n",
       "      <td>NaN</td>\n",
       "      <td>NaN</td>\n",
       "      <td>NaN</td>\n",
       "    </tr>\n",
       "    <tr>\n",
       "      <th>2017-11-02 00:00:00-04:00</th>\n",
       "      <td>109.35</td>\n",
       "      <td>109.495</td>\n",
       "      <td>109.331</td>\n",
       "      <td>109.36</td>\n",
       "      <td>1870711.0</td>\n",
       "      <td>0.000640</td>\n",
       "      <td>257.41</td>\n",
       "      <td>257.75</td>\n",
       "      <td>256.19</td>\n",
       "      <td>257.61</td>\n",
       "      <td>42432046.0</td>\n",
       "      <td>NaN</td>\n",
       "    </tr>\n",
       "    <tr>\n",
       "      <th>2017-11-03 00:00:00-04:00</th>\n",
       "      <td>109.48</td>\n",
       "      <td>109.480</td>\n",
       "      <td>109.290</td>\n",
       "      <td>109.46</td>\n",
       "      <td>1511462.0</td>\n",
       "      <td>0.000914</td>\n",
       "      <td>257.78</td>\n",
       "      <td>258.50</td>\n",
       "      <td>257.30</td>\n",
       "      <td>258.44</td>\n",
       "      <td>38008582.0</td>\n",
       "      <td>0.003222</td>\n",
       "    </tr>\n",
       "    <tr>\n",
       "      <th>2017-11-06 00:00:00-05:00</th>\n",
       "      <td>109.56</td>\n",
       "      <td>109.590</td>\n",
       "      <td>109.460</td>\n",
       "      <td>109.54</td>\n",
       "      <td>1120425.0</td>\n",
       "      <td>0.000731</td>\n",
       "      <td>258.29</td>\n",
       "      <td>259.00</td>\n",
       "      <td>258.22</td>\n",
       "      <td>258.82</td>\n",
       "      <td>22683758.0</td>\n",
       "      <td>0.001470</td>\n",
       "    </tr>\n",
       "    <tr>\n",
       "      <th>2017-11-07 00:00:00-05:00</th>\n",
       "      <td>109.58</td>\n",
       "      <td>109.610</td>\n",
       "      <td>109.490</td>\n",
       "      <td>109.57</td>\n",
       "      <td>1617243.0</td>\n",
       "      <td>0.000274</td>\n",
       "      <td>258.97</td>\n",
       "      <td>259.35</td>\n",
       "      <td>258.09</td>\n",
       "      <td>258.70</td>\n",
       "      <td>40140309.0</td>\n",
       "      <td>-0.000464</td>\n",
       "    </tr>\n",
       "  </tbody>\n",
       "</table>\n",
       "</div>"
      ],
      "text/plain": [
       "                              AGG                                       \\\n",
       "                             open     high      low   close     volume   \n",
       "time                                                                     \n",
       "2017-11-01 00:00:00-04:00  109.17  109.410  109.170  109.29  2289204.0   \n",
       "2017-11-02 00:00:00-04:00  109.35  109.495  109.331  109.36  1870711.0   \n",
       "2017-11-03 00:00:00-04:00  109.48  109.480  109.290  109.46  1511462.0   \n",
       "2017-11-06 00:00:00-05:00  109.56  109.590  109.460  109.54  1120425.0   \n",
       "2017-11-07 00:00:00-05:00  109.58  109.610  109.490  109.57  1617243.0   \n",
       "\n",
       "                                           SPY                          \\\n",
       "                          daily_return    open    high     low   close   \n",
       "time                                                                     \n",
       "2017-11-01 00:00:00-04:00          NaN     NaN     NaN     NaN     NaN   \n",
       "2017-11-02 00:00:00-04:00     0.000640  257.41  257.75  256.19  257.61   \n",
       "2017-11-03 00:00:00-04:00     0.000914  257.78  258.50  257.30  258.44   \n",
       "2017-11-06 00:00:00-05:00     0.000731  258.29  259.00  258.22  258.82   \n",
       "2017-11-07 00:00:00-05:00     0.000274  258.97  259.35  258.09  258.70   \n",
       "\n",
       "                                                    \n",
       "                               volume daily_return  \n",
       "time                                                \n",
       "2017-11-01 00:00:00-04:00         NaN          NaN  \n",
       "2017-11-02 00:00:00-04:00  42432046.0          NaN  \n",
       "2017-11-03 00:00:00-04:00  38008582.0     0.003222  \n",
       "2017-11-06 00:00:00-05:00  22683758.0     0.001470  \n",
       "2017-11-07 00:00:00-05:00  40140309.0    -0.000464  "
      ]
     },
     "execution_count": 61,
     "metadata": {},
     "output_type": "execute_result"
    }
   ],
   "source": [
    "# Configure the Monte Carlo simulation to forecast 30 years cumulative returns\n",
    "# The weights should be split 40% to AGG and 60% to SPY.\n",
    "# Run 500 samples.\n",
    "MC_30Y_Portfolio = MCSimulation(portfolio_data = ticker_data,\n",
    "                            weights = [0.4,0.6],\n",
    "                            num_simulation = 500,\n",
    "                            num_trading_days = 252 * 30\n",
    "                            )\n",
    "\n",
    "\n",
    "# Review the simulation input data\n",
    "MC_30Y_Portfolio.portfolio_data.head()"
   ]
  },
  {
   "cell_type": "code",
   "execution_count": 63,
   "metadata": {},
   "outputs": [
    {
     "name": "stdout",
     "output_type": "stream",
     "text": [
      "Running Monte Carlo simulation number 0.\n",
      "Running Monte Carlo simulation number 10.\n",
      "Running Monte Carlo simulation number 20.\n",
      "Running Monte Carlo simulation number 30.\n",
      "Running Monte Carlo simulation number 40.\n",
      "Running Monte Carlo simulation number 50.\n",
      "Running Monte Carlo simulation number 60.\n",
      "Running Monte Carlo simulation number 70.\n",
      "Running Monte Carlo simulation number 80.\n",
      "Running Monte Carlo simulation number 90.\n",
      "Running Monte Carlo simulation number 100.\n",
      "Running Monte Carlo simulation number 110.\n",
      "Running Monte Carlo simulation number 120.\n",
      "Running Monte Carlo simulation number 130.\n",
      "Running Monte Carlo simulation number 140.\n",
      "Running Monte Carlo simulation number 150.\n",
      "Running Monte Carlo simulation number 160.\n",
      "Running Monte Carlo simulation number 170.\n",
      "Running Monte Carlo simulation number 180.\n",
      "Running Monte Carlo simulation number 190.\n",
      "Running Monte Carlo simulation number 200.\n",
      "Running Monte Carlo simulation number 210.\n",
      "Running Monte Carlo simulation number 220.\n",
      "Running Monte Carlo simulation number 230.\n",
      "Running Monte Carlo simulation number 240.\n",
      "Running Monte Carlo simulation number 250.\n",
      "Running Monte Carlo simulation number 260.\n",
      "Running Monte Carlo simulation number 270.\n",
      "Running Monte Carlo simulation number 280.\n",
      "Running Monte Carlo simulation number 290.\n",
      "Running Monte Carlo simulation number 300.\n",
      "Running Monte Carlo simulation number 310.\n",
      "Running Monte Carlo simulation number 320.\n",
      "Running Monte Carlo simulation number 330.\n",
      "Running Monte Carlo simulation number 340.\n",
      "Running Monte Carlo simulation number 350.\n",
      "Running Monte Carlo simulation number 360.\n",
      "Running Monte Carlo simulation number 370.\n",
      "Running Monte Carlo simulation number 380.\n",
      "Running Monte Carlo simulation number 390.\n",
      "Running Monte Carlo simulation number 400.\n",
      "Running Monte Carlo simulation number 410.\n",
      "Running Monte Carlo simulation number 420.\n",
      "Running Monte Carlo simulation number 430.\n",
      "Running Monte Carlo simulation number 440.\n",
      "Running Monte Carlo simulation number 450.\n",
      "Running Monte Carlo simulation number 460.\n",
      "Running Monte Carlo simulation number 470.\n",
      "Running Monte Carlo simulation number 480.\n",
      "Running Monte Carlo simulation number 490.\n"
     ]
    },
    {
     "data": {
      "text/html": [
       "<div>\n",
       "<style scoped>\n",
       "    .dataframe tbody tr th:only-of-type {\n",
       "        vertical-align: middle;\n",
       "    }\n",
       "\n",
       "    .dataframe tbody tr th {\n",
       "        vertical-align: top;\n",
       "    }\n",
       "\n",
       "    .dataframe thead th {\n",
       "        text-align: right;\n",
       "    }\n",
       "</style>\n",
       "<table border=\"1\" class=\"dataframe\">\n",
       "  <thead>\n",
       "    <tr style=\"text-align: right;\">\n",
       "      <th></th>\n",
       "      <th>0</th>\n",
       "      <th>1</th>\n",
       "      <th>2</th>\n",
       "      <th>3</th>\n",
       "      <th>4</th>\n",
       "      <th>5</th>\n",
       "      <th>6</th>\n",
       "      <th>7</th>\n",
       "      <th>8</th>\n",
       "      <th>9</th>\n",
       "      <th>...</th>\n",
       "      <th>490</th>\n",
       "      <th>491</th>\n",
       "      <th>492</th>\n",
       "      <th>493</th>\n",
       "      <th>494</th>\n",
       "      <th>495</th>\n",
       "      <th>496</th>\n",
       "      <th>497</th>\n",
       "      <th>498</th>\n",
       "      <th>499</th>\n",
       "    </tr>\n",
       "  </thead>\n",
       "  <tbody>\n",
       "    <tr>\n",
       "      <th>0</th>\n",
       "      <td>1.000000</td>\n",
       "      <td>1.000000</td>\n",
       "      <td>1.000000</td>\n",
       "      <td>1.000000</td>\n",
       "      <td>1.000000</td>\n",
       "      <td>1.000000</td>\n",
       "      <td>1.000000</td>\n",
       "      <td>1.000000</td>\n",
       "      <td>1.000000</td>\n",
       "      <td>1.000000</td>\n",
       "      <td>...</td>\n",
       "      <td>1.000000</td>\n",
       "      <td>1.000000</td>\n",
       "      <td>1.000000</td>\n",
       "      <td>1.000000</td>\n",
       "      <td>1.000000</td>\n",
       "      <td>1.000000</td>\n",
       "      <td>1.000000</td>\n",
       "      <td>1.000000</td>\n",
       "      <td>1.000000</td>\n",
       "      <td>1.000000</td>\n",
       "    </tr>\n",
       "    <tr>\n",
       "      <th>1</th>\n",
       "      <td>1.001108</td>\n",
       "      <td>0.988545</td>\n",
       "      <td>0.999352</td>\n",
       "      <td>1.007147</td>\n",
       "      <td>1.006554</td>\n",
       "      <td>1.011527</td>\n",
       "      <td>1.010417</td>\n",
       "      <td>1.015856</td>\n",
       "      <td>1.002217</td>\n",
       "      <td>1.008894</td>\n",
       "      <td>...</td>\n",
       "      <td>0.991328</td>\n",
       "      <td>1.003872</td>\n",
       "      <td>1.003453</td>\n",
       "      <td>1.009578</td>\n",
       "      <td>0.994407</td>\n",
       "      <td>0.985218</td>\n",
       "      <td>0.989649</td>\n",
       "      <td>0.994145</td>\n",
       "      <td>1.006413</td>\n",
       "      <td>0.994066</td>\n",
       "    </tr>\n",
       "    <tr>\n",
       "      <th>2</th>\n",
       "      <td>1.002207</td>\n",
       "      <td>0.991026</td>\n",
       "      <td>1.004820</td>\n",
       "      <td>0.995823</td>\n",
       "      <td>1.024545</td>\n",
       "      <td>1.016718</td>\n",
       "      <td>1.017660</td>\n",
       "      <td>1.019906</td>\n",
       "      <td>1.010588</td>\n",
       "      <td>1.004688</td>\n",
       "      <td>...</td>\n",
       "      <td>0.995484</td>\n",
       "      <td>1.008944</td>\n",
       "      <td>1.005980</td>\n",
       "      <td>1.004985</td>\n",
       "      <td>1.001912</td>\n",
       "      <td>0.984173</td>\n",
       "      <td>0.995996</td>\n",
       "      <td>0.999518</td>\n",
       "      <td>1.020932</td>\n",
       "      <td>0.996073</td>\n",
       "    </tr>\n",
       "    <tr>\n",
       "      <th>3</th>\n",
       "      <td>0.992450</td>\n",
       "      <td>0.981807</td>\n",
       "      <td>1.009035</td>\n",
       "      <td>0.998930</td>\n",
       "      <td>1.030866</td>\n",
       "      <td>1.015780</td>\n",
       "      <td>1.020083</td>\n",
       "      <td>1.017166</td>\n",
       "      <td>1.011910</td>\n",
       "      <td>1.006941</td>\n",
       "      <td>...</td>\n",
       "      <td>0.991830</td>\n",
       "      <td>1.016556</td>\n",
       "      <td>1.020758</td>\n",
       "      <td>1.011998</td>\n",
       "      <td>1.006328</td>\n",
       "      <td>0.992990</td>\n",
       "      <td>0.992097</td>\n",
       "      <td>1.003593</td>\n",
       "      <td>1.015219</td>\n",
       "      <td>0.983275</td>\n",
       "    </tr>\n",
       "    <tr>\n",
       "      <th>4</th>\n",
       "      <td>0.990141</td>\n",
       "      <td>0.962917</td>\n",
       "      <td>1.005176</td>\n",
       "      <td>0.994842</td>\n",
       "      <td>1.040988</td>\n",
       "      <td>1.021875</td>\n",
       "      <td>1.022331</td>\n",
       "      <td>1.021975</td>\n",
       "      <td>1.009113</td>\n",
       "      <td>0.999832</td>\n",
       "      <td>...</td>\n",
       "      <td>0.978003</td>\n",
       "      <td>1.019021</td>\n",
       "      <td>1.018801</td>\n",
       "      <td>1.012378</td>\n",
       "      <td>1.016007</td>\n",
       "      <td>1.002100</td>\n",
       "      <td>0.993501</td>\n",
       "      <td>0.996493</td>\n",
       "      <td>1.036163</td>\n",
       "      <td>0.983309</td>\n",
       "    </tr>\n",
       "    <tr>\n",
       "      <th>...</th>\n",
       "      <td>...</td>\n",
       "      <td>...</td>\n",
       "      <td>...</td>\n",
       "      <td>...</td>\n",
       "      <td>...</td>\n",
       "      <td>...</td>\n",
       "      <td>...</td>\n",
       "      <td>...</td>\n",
       "      <td>...</td>\n",
       "      <td>...</td>\n",
       "      <td>...</td>\n",
       "      <td>...</td>\n",
       "      <td>...</td>\n",
       "      <td>...</td>\n",
       "      <td>...</td>\n",
       "      <td>...</td>\n",
       "      <td>...</td>\n",
       "      <td>...</td>\n",
       "      <td>...</td>\n",
       "      <td>...</td>\n",
       "      <td>...</td>\n",
       "    </tr>\n",
       "    <tr>\n",
       "      <th>7556</th>\n",
       "      <td>61.993160</td>\n",
       "      <td>52.003522</td>\n",
       "      <td>19.674665</td>\n",
       "      <td>14.957668</td>\n",
       "      <td>121.245257</td>\n",
       "      <td>15.084818</td>\n",
       "      <td>17.739403</td>\n",
       "      <td>14.935632</td>\n",
       "      <td>7.174500</td>\n",
       "      <td>6.974171</td>\n",
       "      <td>...</td>\n",
       "      <td>25.779560</td>\n",
       "      <td>13.910579</td>\n",
       "      <td>8.966050</td>\n",
       "      <td>15.134995</td>\n",
       "      <td>77.446740</td>\n",
       "      <td>20.918456</td>\n",
       "      <td>11.754120</td>\n",
       "      <td>69.487628</td>\n",
       "      <td>55.232189</td>\n",
       "      <td>17.352546</td>\n",
       "    </tr>\n",
       "    <tr>\n",
       "      <th>7557</th>\n",
       "      <td>62.750072</td>\n",
       "      <td>51.733593</td>\n",
       "      <td>19.760413</td>\n",
       "      <td>14.982177</td>\n",
       "      <td>122.510657</td>\n",
       "      <td>15.255723</td>\n",
       "      <td>17.820710</td>\n",
       "      <td>14.741675</td>\n",
       "      <td>7.134003</td>\n",
       "      <td>6.953697</td>\n",
       "      <td>...</td>\n",
       "      <td>25.816736</td>\n",
       "      <td>14.020810</td>\n",
       "      <td>8.853139</td>\n",
       "      <td>15.138194</td>\n",
       "      <td>78.005935</td>\n",
       "      <td>20.863802</td>\n",
       "      <td>11.734230</td>\n",
       "      <td>70.109687</td>\n",
       "      <td>54.441927</td>\n",
       "      <td>17.309514</td>\n",
       "    </tr>\n",
       "    <tr>\n",
       "      <th>7558</th>\n",
       "      <td>62.642235</td>\n",
       "      <td>51.506886</td>\n",
       "      <td>19.821275</td>\n",
       "      <td>14.949608</td>\n",
       "      <td>124.916779</td>\n",
       "      <td>15.205929</td>\n",
       "      <td>17.910003</td>\n",
       "      <td>14.799988</td>\n",
       "      <td>7.160978</td>\n",
       "      <td>7.024244</td>\n",
       "      <td>...</td>\n",
       "      <td>26.224211</td>\n",
       "      <td>13.989798</td>\n",
       "      <td>8.815956</td>\n",
       "      <td>15.183549</td>\n",
       "      <td>78.014839</td>\n",
       "      <td>20.518330</td>\n",
       "      <td>11.764827</td>\n",
       "      <td>70.305490</td>\n",
       "      <td>54.115922</td>\n",
       "      <td>16.997243</td>\n",
       "    </tr>\n",
       "    <tr>\n",
       "      <th>7559</th>\n",
       "      <td>62.765559</td>\n",
       "      <td>52.259421</td>\n",
       "      <td>20.033901</td>\n",
       "      <td>14.884369</td>\n",
       "      <td>124.945533</td>\n",
       "      <td>15.393338</td>\n",
       "      <td>17.746649</td>\n",
       "      <td>14.964620</td>\n",
       "      <td>7.285925</td>\n",
       "      <td>7.011994</td>\n",
       "      <td>...</td>\n",
       "      <td>26.162946</td>\n",
       "      <td>13.898744</td>\n",
       "      <td>8.843694</td>\n",
       "      <td>15.198900</td>\n",
       "      <td>77.841791</td>\n",
       "      <td>20.720715</td>\n",
       "      <td>11.804063</td>\n",
       "      <td>69.835480</td>\n",
       "      <td>54.369779</td>\n",
       "      <td>16.937949</td>\n",
       "    </tr>\n",
       "    <tr>\n",
       "      <th>7560</th>\n",
       "      <td>63.156733</td>\n",
       "      <td>52.393049</td>\n",
       "      <td>20.263765</td>\n",
       "      <td>14.959691</td>\n",
       "      <td>124.256421</td>\n",
       "      <td>15.586467</td>\n",
       "      <td>17.976952</td>\n",
       "      <td>15.050558</td>\n",
       "      <td>7.320605</td>\n",
       "      <td>7.023153</td>\n",
       "      <td>...</td>\n",
       "      <td>26.380739</td>\n",
       "      <td>13.895918</td>\n",
       "      <td>8.811123</td>\n",
       "      <td>15.287872</td>\n",
       "      <td>77.498597</td>\n",
       "      <td>20.757937</td>\n",
       "      <td>11.909548</td>\n",
       "      <td>69.258440</td>\n",
       "      <td>54.178772</td>\n",
       "      <td>16.817399</td>\n",
       "    </tr>\n",
       "  </tbody>\n",
       "</table>\n",
       "<p>7561 rows × 500 columns</p>\n",
       "</div>"
      ],
      "text/plain": [
       "            0          1          2          3           4          5    \\\n",
       "0      1.000000   1.000000   1.000000   1.000000    1.000000   1.000000   \n",
       "1      1.001108   0.988545   0.999352   1.007147    1.006554   1.011527   \n",
       "2      1.002207   0.991026   1.004820   0.995823    1.024545   1.016718   \n",
       "3      0.992450   0.981807   1.009035   0.998930    1.030866   1.015780   \n",
       "4      0.990141   0.962917   1.005176   0.994842    1.040988   1.021875   \n",
       "...         ...        ...        ...        ...         ...        ...   \n",
       "7556  61.993160  52.003522  19.674665  14.957668  121.245257  15.084818   \n",
       "7557  62.750072  51.733593  19.760413  14.982177  122.510657  15.255723   \n",
       "7558  62.642235  51.506886  19.821275  14.949608  124.916779  15.205929   \n",
       "7559  62.765559  52.259421  20.033901  14.884369  124.945533  15.393338   \n",
       "7560  63.156733  52.393049  20.263765  14.959691  124.256421  15.586467   \n",
       "\n",
       "            6          7         8         9    ...        490        491  \\\n",
       "0      1.000000   1.000000  1.000000  1.000000  ...   1.000000   1.000000   \n",
       "1      1.010417   1.015856  1.002217  1.008894  ...   0.991328   1.003872   \n",
       "2      1.017660   1.019906  1.010588  1.004688  ...   0.995484   1.008944   \n",
       "3      1.020083   1.017166  1.011910  1.006941  ...   0.991830   1.016556   \n",
       "4      1.022331   1.021975  1.009113  0.999832  ...   0.978003   1.019021   \n",
       "...         ...        ...       ...       ...  ...        ...        ...   \n",
       "7556  17.739403  14.935632  7.174500  6.974171  ...  25.779560  13.910579   \n",
       "7557  17.820710  14.741675  7.134003  6.953697  ...  25.816736  14.020810   \n",
       "7558  17.910003  14.799988  7.160978  7.024244  ...  26.224211  13.989798   \n",
       "7559  17.746649  14.964620  7.285925  7.011994  ...  26.162946  13.898744   \n",
       "7560  17.976952  15.050558  7.320605  7.023153  ...  26.380739  13.895918   \n",
       "\n",
       "           492        493        494        495        496        497  \\\n",
       "0     1.000000   1.000000   1.000000   1.000000   1.000000   1.000000   \n",
       "1     1.003453   1.009578   0.994407   0.985218   0.989649   0.994145   \n",
       "2     1.005980   1.004985   1.001912   0.984173   0.995996   0.999518   \n",
       "3     1.020758   1.011998   1.006328   0.992990   0.992097   1.003593   \n",
       "4     1.018801   1.012378   1.016007   1.002100   0.993501   0.996493   \n",
       "...        ...        ...        ...        ...        ...        ...   \n",
       "7556  8.966050  15.134995  77.446740  20.918456  11.754120  69.487628   \n",
       "7557  8.853139  15.138194  78.005935  20.863802  11.734230  70.109687   \n",
       "7558  8.815956  15.183549  78.014839  20.518330  11.764827  70.305490   \n",
       "7559  8.843694  15.198900  77.841791  20.720715  11.804063  69.835480   \n",
       "7560  8.811123  15.287872  77.498597  20.757937  11.909548  69.258440   \n",
       "\n",
       "            498        499  \n",
       "0      1.000000   1.000000  \n",
       "1      1.006413   0.994066  \n",
       "2      1.020932   0.996073  \n",
       "3      1.015219   0.983275  \n",
       "4      1.036163   0.983309  \n",
       "...         ...        ...  \n",
       "7556  55.232189  17.352546  \n",
       "7557  54.441927  17.309514  \n",
       "7558  54.115922  16.997243  \n",
       "7559  54.369779  16.937949  \n",
       "7560  54.178772  16.817399  \n",
       "\n",
       "[7561 rows x 500 columns]"
      ]
     },
     "execution_count": 63,
     "metadata": {},
     "output_type": "execute_result"
    }
   ],
   "source": [
    "# Run the Monte Carlo simulation to forecast 30 years cumulative returns\n",
    "MC_30Y_Portfolio.calc_cumulative_return()"
   ]
  },
  {
   "cell_type": "code",
   "execution_count": 64,
   "metadata": {},
   "outputs": [
    {
     "data": {
      "text/plain": [
       "<AxesSubplot:title={'center':'500 Simulations of Cumulative Portfolio Return Trajectories Over the Next 7560 Trading Days.'}>"
      ]
     },
     "execution_count": 64,
     "metadata": {},
     "output_type": "execute_result"
    },
    {
     "data": {
      "image/png": "[encoded data removed]",
      "text/plain": [
       "<Figure size 432x288 with 1 Axes>"
      ]
     },
     "metadata": {
      "needs_background": "light"
     },
     "output_type": "display_data"
    }
   ],
   "source": [
    "# Visualize the 30-year Monte Carlo simulation by creating an\n",
    "# overlay line plot\n",
    "simulation_line_plot = MC_30Y_Portfolio.plot_simulation()\n",
    "simulation_line_plot\n"
   ]
  },
  {
   "cell_type": "markdown",
   "metadata": {},
   "source": [
    "#### Step 3: Plot the probability distribution of the Monte Carlo simulation."
   ]
  },
  {
   "cell_type": "code",
   "execution_count": 65,
   "metadata": {},
   "outputs": [
    {
     "data": {
      "text/plain": [
       "<AxesSubplot:title={'center':'Distribution of Final Cumuluative Returns Across All 500 Simulations'}, ylabel='Frequency'>"
      ]
     },
     "execution_count": 65,
     "metadata": {},
     "output_type": "execute_result"
    },
    {
     "data": {
      "image/png": "[encoded data removed]",
      "text/plain": [
       "<Figure size 432x288 with 1 Axes>"
      ]
     },
     "metadata": {
      "needs_background": "light"
     },
     "output_type": "display_data"
    }
   ],
   "source": [
    "# Visualize the probability distribution of the 30-year Monte Carlo simulation \n",
    "# by plotting a histogram\n",
    "simulation_hist_plot = MC_30Y_Portfolio.plot_distribution()\n",
    "simulation_hist_plot\n"
   ]
  },
  {
   "cell_type": "markdown",
   "metadata": {},
   "source": [
    "#### Step 4: Generate the summary statistics for the Monte Carlo simulation."
   ]
  },
  {
   "cell_type": "code",
   "execution_count": 66,
   "metadata": {},
   "outputs": [
    {
     "data": {
      "text/plain": [
       "count           500.000000\n",
       "mean             24.496900\n",
       "std              20.878992\n",
       "min               2.801222\n",
       "25%              12.106273\n",
       "50%              18.969276\n",
       "75%              29.290315\n",
       "max             237.632541\n",
       "95% CI Lower      4.518641\n",
       "95% CI Upper     71.116820\n",
       "Name: 7560, dtype: float64"
      ]
     },
     "execution_count": 66,
     "metadata": {},
     "output_type": "execute_result"
    }
   ],
   "source": [
    "# Generate summary statistics from the 30-year Monte Carlo simulation results\n",
    "# Save the results as a variable\n",
    "# MC_summary_statistics = {\"mean\": list(MC_Portfolio.simulated_return.mean()),\n",
    "#                          \"max\": list(MC_Portfolio.simulated_return.max()),\n",
    "#                          \"min\": list(MC_Portfolio.simulated_return.min()),\n",
    "#                          \"median\": list(MC_Portfolio.simulated_return.median())\n",
    "#                             }\n",
    "MC_summary_statistics = MC_30Y_Portfolio.summarize_cumulative_return()\n",
    "# MC_summary_statistics_df = pd.DataFrame(MC_summary_statistics)\n",
    "\n",
    "# Review the 30-year Monte Carlo summary statistics\n",
    "# MC_summary_statistics_df.head()\n",
    "MC_summary_statistics"
   ]
  },
  {
   "cell_type": "markdown",
   "metadata": {},
   "source": [
    "### Analyze the Retirement Portfolio Forecasts\n",
    "\n",
    "Using the current value of only the stock and bond portion of the member's portfolio and the summary statistics that you generated from the Monte Carlo simulation, answer the following question in your Jupyter notebook:\n",
    "\n",
    "-  What are the lower and upper bounds for the expected value of the portfolio with a 95% confidence interval?\n"
   ]
  },
  {
   "cell_type": "code",
   "execution_count": 67,
   "metadata": {},
   "outputs": [
    {
     "name": "stdout",
     "output_type": "stream",
     "text": [
      "AGG: $ 22814.0 \n",
      "SPY: $ 49844.3\n"
     ]
    }
   ],
   "source": [
    "# Print the current balance of the stock and bond portion of the members portfolio\n",
    "print(\"AGG: $\", agg_value, \"\\nSPY: $\", spy_value)"
   ]
  },
  {
   "cell_type": "code",
   "execution_count": 68,
   "metadata": {},
   "outputs": [
    {
     "name": "stdout",
     "output_type": "stream",
     "text": [
      "There is a 95% chance that an initial investment of $72658.3 in the portfolio over the next 30 years will end within in the range of $328316.78 and $5167227.26.\n"
     ]
    }
   ],
   "source": [
    "# Use the lower and upper `95%` confidence intervals to calculate the range of the possible outcomes for the current stock/bond portfolio\n",
    "ci_lower_thirty_cumulative_return = round(MC_summary_statistics[\"95% CI Lower\"] * total_stocks_bonds,2)\n",
    "ci_upper_thirty_cumulative_return = round(MC_summary_statistics[\"95% CI Upper\"] * total_stocks_bonds,2)\n",
    "\n",
    "# Print the result of your calculations\n",
    "print(f\"There is a 95% chance that an initial investment of ${total_stocks_bonds} in the portfolio\"\n",
    "      f\" over the next 30 years will end within in the range of\"\n",
    "      f\" ${ci_lower_thirty_cumulative_return} and ${ci_upper_thirty_cumulative_return}.\")"
   ]
  },
  {
   "cell_type": "markdown",
   "metadata": {},
   "source": [
    "### Forecast Cumulative Returns in 10 Years\n",
    "\n",
    "The CTO of the credit union is impressed with your work on these planning tools but wonders if 30 years is a long time to wait until retirement. So, your next task is to adjust the retirement portfolio and run a new Monte Carlo simulation to find out if the changes will allow members to retire earlier.\n",
    "\n",
    "For this new Monte Carlo simulation, do the following: \n",
    "\n",
    "- Forecast the cumulative returns for 10 years from now. Because of the shortened investment horizon (30 years to 10 years), the portfolio needs to invest more heavily in the riskier asset&mdash;that is, stock&mdash;to help accumulate wealth for retirement. \n",
    "\n",
    "- Adjust the weights of the retirement portfolio so that the composition for the Monte Carlo simulation consists of 20% bonds and 80% stocks. \n",
    "\n",
    "- Run the simulation over 500 samples, and use the same data that the API call to Alpaca generated.\n",
    "\n",
    "- Based on the new Monte Carlo simulation, answer the following questions in your Jupyter notebook:\n",
    "\n",
    "    - Using the current value of only the stock and bond portion of the member's portfolio and the summary statistics that you generated from the new Monte Carlo simulation, what are the lower and upper bounds for the expected value of the portfolio (with the new weights) with a 95% confidence interval?\n",
    "\n",
    "    - Will weighting the portfolio more heavily toward stocks allow the credit union members to retire after only 10 years?\n"
   ]
  },
  {
   "cell_type": "code",
   "execution_count": 69,
   "metadata": {},
   "outputs": [
    {
     "data": {
      "text/html": [
       "<div>\n",
       "<style scoped>\n",
       "    .dataframe tbody tr th:only-of-type {\n",
       "        vertical-align: middle;\n",
       "    }\n",
       "\n",
       "    .dataframe tbody tr th {\n",
       "        vertical-align: top;\n",
       "    }\n",
       "\n",
       "    .dataframe thead tr th {\n",
       "        text-align: left;\n",
       "    }\n",
       "\n",
       "    .dataframe thead tr:last-of-type th {\n",
       "        text-align: right;\n",
       "    }\n",
       "</style>\n",
       "<table border=\"1\" class=\"dataframe\">\n",
       "  <thead>\n",
       "    <tr>\n",
       "      <th></th>\n",
       "      <th colspan=\"6\" halign=\"left\">AGG</th>\n",
       "      <th colspan=\"6\" halign=\"left\">SPY</th>\n",
       "    </tr>\n",
       "    <tr>\n",
       "      <th></th>\n",
       "      <th>open</th>\n",
       "      <th>high</th>\n",
       "      <th>low</th>\n",
       "      <th>close</th>\n",
       "      <th>volume</th>\n",
       "      <th>daily_return</th>\n",
       "      <th>open</th>\n",
       "      <th>high</th>\n",
       "      <th>low</th>\n",
       "      <th>close</th>\n",
       "      <th>volume</th>\n",
       "      <th>daily_return</th>\n",
       "    </tr>\n",
       "    <tr>\n",
       "      <th>time</th>\n",
       "      <th></th>\n",
       "      <th></th>\n",
       "      <th></th>\n",
       "      <th></th>\n",
       "      <th></th>\n",
       "      <th></th>\n",
       "      <th></th>\n",
       "      <th></th>\n",
       "      <th></th>\n",
       "      <th></th>\n",
       "      <th></th>\n",
       "      <th></th>\n",
       "    </tr>\n",
       "  </thead>\n",
       "  <tbody>\n",
       "    <tr>\n",
       "      <th>2017-11-01 00:00:00-04:00</th>\n",
       "      <td>109.17</td>\n",
       "      <td>109.410</td>\n",
       "      <td>109.170</td>\n",
       "      <td>109.29</td>\n",
       "      <td>2289204.0</td>\n",
       "      <td>NaN</td>\n",
       "      <td>NaN</td>\n",
       "      <td>NaN</td>\n",
       "      <td>NaN</td>\n",
       "      <td>NaN</td>\n",
       "      <td>NaN</td>\n",
       "      <td>NaN</td>\n",
       "    </tr>\n",
       "    <tr>\n",
       "      <th>2017-11-02 00:00:00-04:00</th>\n",
       "      <td>109.35</td>\n",
       "      <td>109.495</td>\n",
       "      <td>109.331</td>\n",
       "      <td>109.36</td>\n",
       "      <td>1870711.0</td>\n",
       "      <td>0.000640</td>\n",
       "      <td>257.41</td>\n",
       "      <td>257.75</td>\n",
       "      <td>256.19</td>\n",
       "      <td>257.61</td>\n",
       "      <td>42432046.0</td>\n",
       "      <td>NaN</td>\n",
       "    </tr>\n",
       "    <tr>\n",
       "      <th>2017-11-03 00:00:00-04:00</th>\n",
       "      <td>109.48</td>\n",
       "      <td>109.480</td>\n",
       "      <td>109.290</td>\n",
       "      <td>109.46</td>\n",
       "      <td>1511462.0</td>\n",
       "      <td>0.000914</td>\n",
       "      <td>257.78</td>\n",
       "      <td>258.50</td>\n",
       "      <td>257.30</td>\n",
       "      <td>258.44</td>\n",
       "      <td>38008582.0</td>\n",
       "      <td>0.003222</td>\n",
       "    </tr>\n",
       "    <tr>\n",
       "      <th>2017-11-06 00:00:00-05:00</th>\n",
       "      <td>109.56</td>\n",
       "      <td>109.590</td>\n",
       "      <td>109.460</td>\n",
       "      <td>109.54</td>\n",
       "      <td>1120425.0</td>\n",
       "      <td>0.000731</td>\n",
       "      <td>258.29</td>\n",
       "      <td>259.00</td>\n",
       "      <td>258.22</td>\n",
       "      <td>258.82</td>\n",
       "      <td>22683758.0</td>\n",
       "      <td>0.001470</td>\n",
       "    </tr>\n",
       "    <tr>\n",
       "      <th>2017-11-07 00:00:00-05:00</th>\n",
       "      <td>109.58</td>\n",
       "      <td>109.610</td>\n",
       "      <td>109.490</td>\n",
       "      <td>109.57</td>\n",
       "      <td>1617243.0</td>\n",
       "      <td>0.000274</td>\n",
       "      <td>258.97</td>\n",
       "      <td>259.35</td>\n",
       "      <td>258.09</td>\n",
       "      <td>258.70</td>\n",
       "      <td>40140309.0</td>\n",
       "      <td>-0.000464</td>\n",
       "    </tr>\n",
       "  </tbody>\n",
       "</table>\n",
       "</div>"
      ],
      "text/plain": [
       "                              AGG                                       \\\n",
       "                             open     high      low   close     volume   \n",
       "time                                                                     \n",
       "2017-11-01 00:00:00-04:00  109.17  109.410  109.170  109.29  2289204.0   \n",
       "2017-11-02 00:00:00-04:00  109.35  109.495  109.331  109.36  1870711.0   \n",
       "2017-11-03 00:00:00-04:00  109.48  109.480  109.290  109.46  1511462.0   \n",
       "2017-11-06 00:00:00-05:00  109.56  109.590  109.460  109.54  1120425.0   \n",
       "2017-11-07 00:00:00-05:00  109.58  109.610  109.490  109.57  1617243.0   \n",
       "\n",
       "                                           SPY                          \\\n",
       "                          daily_return    open    high     low   close   \n",
       "time                                                                     \n",
       "2017-11-01 00:00:00-04:00          NaN     NaN     NaN     NaN     NaN   \n",
       "2017-11-02 00:00:00-04:00     0.000640  257.41  257.75  256.19  257.61   \n",
       "2017-11-03 00:00:00-04:00     0.000914  257.78  258.50  257.30  258.44   \n",
       "2017-11-06 00:00:00-05:00     0.000731  258.29  259.00  258.22  258.82   \n",
       "2017-11-07 00:00:00-05:00     0.000274  258.97  259.35  258.09  258.70   \n",
       "\n",
       "                                                    \n",
       "                               volume daily_return  \n",
       "time                                                \n",
       "2017-11-01 00:00:00-04:00         NaN          NaN  \n",
       "2017-11-02 00:00:00-04:00  42432046.0          NaN  \n",
       "2017-11-03 00:00:00-04:00  38008582.0     0.003222  \n",
       "2017-11-06 00:00:00-05:00  22683758.0     0.001470  \n",
       "2017-11-07 00:00:00-05:00  40140309.0    -0.000464  "
      ]
     },
     "execution_count": 69,
     "metadata": {},
     "output_type": "execute_result"
    }
   ],
   "source": [
    "# Configure a Monte Carlo simulation to forecast 10 years cumulative returns\n",
    "# The weights should be split 20% to AGG and 80% to SPY.\n",
    "MC_10Y_Portfolio = MCSimulation(portfolio_data = ticker_data,\n",
    "                            weights = [0.2,0.8],\n",
    "                            num_simulation = 500,\n",
    "                            num_trading_days = 252 * 10\n",
    "                            )\n",
    "\n",
    "\n",
    "# Review the simulation input data\n",
    "# YOUR CODE HERE\n",
    "MC_10Y_Portfolio.portfolio_data.head()"
   ]
  },
  {
   "cell_type": "code",
   "execution_count": 71,
   "metadata": {},
   "outputs": [
    {
     "data": {
      "text/plain": [
       "<bound method MCSimulation.calc_cumulative_return of <MCForecastTools.MCSimulation object at 0x0000021C519DBA90>>"
      ]
     },
     "execution_count": 71,
     "metadata": {},
     "output_type": "execute_result"
    }
   ],
   "source": [
    "# Run the Monte Carlo simulation to forecast 10 years cumulative returns\n",
    "MC_10Y_Portfolio.calc_cumulative_return()\n"
   ]
  },
  {
   "cell_type": "code",
   "execution_count": 72,
   "metadata": {},
   "outputs": [
    {
     "name": "stdout",
     "output_type": "stream",
     "text": [
      "Running Monte Carlo simulation number 0.\n",
      "Running Monte Carlo simulation number 10.\n",
      "Running Monte Carlo simulation number 20.\n",
      "Running Monte Carlo simulation number 30.\n",
      "Running Monte Carlo simulation number 40.\n",
      "Running Monte Carlo simulation number 50.\n",
      "Running Monte Carlo simulation number 60.\n",
      "Running Monte Carlo simulation number 70.\n",
      "Running Monte Carlo simulation number 80.\n",
      "Running Monte Carlo simulation number 90.\n",
      "Running Monte Carlo simulation number 100.\n",
      "Running Monte Carlo simulation number 110.\n",
      "Running Monte Carlo simulation number 120.\n",
      "Running Monte Carlo simulation number 130.\n",
      "Running Monte Carlo simulation number 140.\n",
      "Running Monte Carlo simulation number 150.\n",
      "Running Monte Carlo simulation number 160.\n",
      "Running Monte Carlo simulation number 170.\n",
      "Running Monte Carlo simulation number 180.\n",
      "Running Monte Carlo simulation number 190.\n",
      "Running Monte Carlo simulation number 200.\n",
      "Running Monte Carlo simulation number 210.\n",
      "Running Monte Carlo simulation number 220.\n",
      "Running Monte Carlo simulation number 230.\n",
      "Running Monte Carlo simulation number 240.\n",
      "Running Monte Carlo simulation number 250.\n",
      "Running Monte Carlo simulation number 260.\n",
      "Running Monte Carlo simulation number 270.\n",
      "Running Monte Carlo simulation number 280.\n",
      "Running Monte Carlo simulation number 290.\n",
      "Running Monte Carlo simulation number 300.\n",
      "Running Monte Carlo simulation number 310.\n",
      "Running Monte Carlo simulation number 320.\n",
      "Running Monte Carlo simulation number 330.\n",
      "Running Monte Carlo simulation number 340.\n",
      "Running Monte Carlo simulation number 350.\n",
      "Running Monte Carlo simulation number 360.\n",
      "Running Monte Carlo simulation number 370.\n",
      "Running Monte Carlo simulation number 380.\n",
      "Running Monte Carlo simulation number 390.\n",
      "Running Monte Carlo simulation number 400.\n",
      "Running Monte Carlo simulation number 410.\n",
      "Running Monte Carlo simulation number 420.\n",
      "Running Monte Carlo simulation number 430.\n",
      "Running Monte Carlo simulation number 440.\n",
      "Running Monte Carlo simulation number 450.\n",
      "Running Monte Carlo simulation number 460.\n",
      "Running Monte Carlo simulation number 470.\n",
      "Running Monte Carlo simulation number 480.\n",
      "Running Monte Carlo simulation number 490.\n"
     ]
    },
    {
     "data": {
      "text/plain": [
       "<AxesSubplot:title={'center':'500 Simulations of Cumulative Portfolio Return Trajectories Over the Next 2520 Trading Days.'}>"
      ]
     },
     "execution_count": 72,
     "metadata": {},
     "output_type": "execute_result"
    },
    {
     "data": {
      "image/png": "[encoded data removed]",
      "text/plain": [
       "<Figure size 432x288 with 1 Axes>"
      ]
     },
     "metadata": {
      "needs_background": "light"
     },
     "output_type": "display_data"
    }
   ],
   "source": [
    "# Visualize the 10-year Monte Carlo simulation by creating an\n",
    "# overlay line plot\n",
    "MC_10Y_Portfolio.plot_simulation()\n"
   ]
  },
  {
   "cell_type": "code",
   "execution_count": 73,
   "metadata": {},
   "outputs": [
    {
     "data": {
      "text/plain": [
       "<AxesSubplot:title={'center':'Distribution of Final Cumuluative Returns Across All 500 Simulations'}, ylabel='Frequency'>"
      ]
     },
     "execution_count": 73,
     "metadata": {},
     "output_type": "execute_result"
    },
    {
     "data": {
      "image/png": "[encoded data removed]",
      "text/plain": [
       "<Figure size 432x288 with 1 Axes>"
      ]
     },
     "metadata": {
      "needs_background": "light"
     },
     "output_type": "display_data"
    }
   ],
   "source": [
    "# Visualize the probability distribution of the 10-year Monte Carlo simulation \n",
    "# by plotting a histogram\n",
    "MC_10Y_Portfolio.plot_distribution()\n"
   ]
  },
  {
   "cell_type": "code",
   "execution_count": 74,
   "metadata": {},
   "outputs": [
    {
     "data": {
      "text/plain": [
       "count           500.000000\n",
       "mean              3.846463\n",
       "std               2.040271\n",
       "min               0.561822\n",
       "25%               2.487406\n",
       "50%               3.423066\n",
       "75%               4.804642\n",
       "max              14.576847\n",
       "95% CI Lower      1.163340\n",
       "95% CI Upper      8.899066\n",
       "Name: 2520, dtype: float64"
      ]
     },
     "execution_count": 74,
     "metadata": {},
     "output_type": "execute_result"
    }
   ],
   "source": [
    "# Generate summary statistics from the 10-year Monte Carlo simulation results\n",
    "# Save the results as a variable\n",
    "MC_10Y_summary = MC_10Y_Portfolio.summarize_cumulative_return()\n",
    "\n",
    "\n",
    "# Review the 10-year Monte Carlo summary statistics\n",
    "MC_10Y_summary"
   ]
  },
  {
   "cell_type": "markdown",
   "metadata": {},
   "source": [
    "### Answer the following questions:"
   ]
  },
  {
   "cell_type": "markdown",
   "metadata": {},
   "source": [
    "#### Question: Using the current value of only the stock and bond portion of the member's portfolio and the summary statistics that you generated from the new Monte Carlo simulation, what are the lower and upper bounds for the expected value of the portfolio (with the new weights) with a 95% confidence interval?"
   ]
  },
  {
   "cell_type": "code",
   "execution_count": 75,
   "metadata": {},
   "outputs": [
    {
     "name": "stdout",
     "output_type": "stream",
     "text": [
      "AGG: $ 22814.0 \n",
      "SPY: $ 49844.3\n"
     ]
    }
   ],
   "source": [
    "# Print the current balance of the stock and bond portion of the members portfolio\n",
    "print(\"AGG: $\", agg_value, \"\\nSPY: $\", spy_value)"
   ]
  },
  {
   "cell_type": "code",
   "execution_count": 76,
   "metadata": {},
   "outputs": [
    {
     "name": "stdout",
     "output_type": "stream",
     "text": [
      "There is a 95% chance that an initial investment of $72658.3 in the portfolio over the next 10 years will end within in the range of $84526.29 and $646590.97.\n"
     ]
    }
   ],
   "source": [
    "# Use the lower and upper `95%` confidence intervals to calculate the range of the possible outcomes for the current stock/bond portfolio\n",
    "ci_lower_ten_cumulative_return = round(MC_10Y_summary[\"95% CI Lower\"] * total_stocks_bonds,2)\n",
    "ci_upper_ten_cumulative_return = round(MC_10Y_summary[\"95% CI Upper\"] * total_stocks_bonds,2)\n",
    "\n",
    "\n",
    "# Print the result of your calculations\n",
    "print(f\"There is a 95% chance that an initial investment of ${total_stocks_bonds} in the portfolio\"\n",
    "      f\" over the next 10 years will end within in the range of\"\n",
    "      f\" ${ci_lower_ten_cumulative_return} and ${ci_upper_ten_cumulative_return}.\")"
   ]
  },
  {
   "cell_type": "markdown",
   "metadata": {},
   "source": [
    "#### Question: Will weighting the portfolio more heavily to stocks allow the credit union members to retire after only 10 years?"
   ]
  },
  {
   "cell_type": "raw",
   "metadata": {},
   "source": [
    "**Answer** I am not sure what is the exact goal for a retirement but a 10 year portfolio generates a far lower range of return than a 30 year one, even if the portfolio is more weighted on the stock side. Regardless of the fact that stocks have a higher standard deviation and higher annual return than bonds, "
   ]
  }
 ],
 "metadata": {
  "kernelspec": {
   "display_name": "Python 3",
   "language": "python",
   "name": "python3"
  },
  "language_info": {
   "codemirror_mode": {
    "name": "ipython",
    "version": 3
   },
   "file_extension": ".py",
   "mimetype": "text/x-python",
   "name": "python",
   "nbconvert_exporter": "python",
   "pygments_lexer": "ipython3",
   "version": "3.8.8"
  }
 },
 "nbformat": 4,
 "nbformat_minor": 4
}
